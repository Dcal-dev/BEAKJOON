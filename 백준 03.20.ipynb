{
 "cells": [
  {
   "cell_type": "markdown",
   "id": "eaa4cfd5-2962-462e-aba5-95cf4dc1278c",
   "metadata": {},
   "source": [
    "# 동적 계획법"
   ]
  },
  {
   "cell_type": "markdown",
   "id": "a15b973b-3fb8-49e9-8975-5c2d6195be5d",
   "metadata": {},
   "source": [
    "## 7\t2579\t계단 오르기\n",
    "i번째 계단에 오를 때, 몇 개의 연속한 계단을 올랐는지를 고려하여 부분문제를 정의해봅시다."
   ]
  },
  {
   "cell_type": "code",
   "execution_count": 3,
   "id": "e89b172a-b673-4e55-96ab-4384cbc51e99",
   "metadata": {},
   "outputs": [],
   "source": [
    "# 문제 조건 \n",
    "# 써있는 계단을 밟으면 점수를 얻는다.\n",
    "# 연속 세개를 밟을수 없다.\n",
    "# 한번에 1개 아니면 2개\n",
    "# 마지막 계단은 반드시 밟아야 한다."
   ]
  },
  {
   "cell_type": "code",
   "execution_count": 10,
   "id": "ddef2410-a1bc-4c1c-b6ac-c049de83e0dd",
   "metadata": {},
   "outputs": [
    {
     "name": "stdin",
     "output_type": "stream",
     "text": [
      " 5\n",
      " 10\n",
      " 15\n",
      " 20\n",
      " 25\n",
      " 10\n"
     ]
    },
    {
     "name": "stdout",
     "output_type": "stream",
     "text": [
      "60\n"
     ]
    }
   ],
   "source": [
    "import sys\n",
    "input=input#sys.stdin.readline\n",
    "N = int(input())\n",
    "\n",
    "steps=[0]\n",
    "\n",
    "# 일단 무조건 마지막을 밟아야 한다.\n",
    "# dp[n] = dp[n-3] + steps[n-1] + steps[n]\n",
    "# dp[n] = dp[n-2] + steps[n]\n",
    "# 1.마지막 계단 --> 마지막 계단에서 3칸 전, 2칸 밟고, 1칸 밟아야 된다. cf. 연속 3계단은 안됨\n",
    "# 2.마지막 계단 --> 마지막 계단에서 2칸 전, 마지막 계단. ? \n",
    "# 1계단 전의 계단을 밟는것은 고려 안하나? 1. 방법에 포함되기 때문\n",
    "\n",
    "#이제 비교만 남았다.\n",
    "# method1 = dp[n-3] + steps[n-1] + steps[n]\n",
    "# method2 = dp[n-2] +steps [n] \n",
    "# dp[n] = max(method1,method2)\n",
    "\n",
    "for _ in range(N): steps.append(int(input()))\n",
    "\n",
    "if N == 1:\n",
    "    #추가 조건 계단이 1칸일때 출력하기\n",
    "    print(steps[1])\n",
    "    \n",
    "else:\n",
    "    dp=[0]*(N+1)\n",
    "    dp[1]=steps[1]\n",
    "    dp[2]=steps[1] +steps[2]\n",
    "\n",
    "    for i in range(3,N+1):\n",
    "        method1 = dp[i-3] + steps[i-1] + steps[i]\n",
    "        method2 = dp[i-2] + steps[i] \n",
    "        dp[i]=max(method1,method2)\n",
    "    print(dp[-1])"
   ]
  },
  {
   "cell_type": "code",
   "execution_count": null,
   "id": "dfbd92a6-17c1-4253-9fd9-9ba7df363b6f",
   "metadata": {},
   "outputs": [
    {
     "name": "stdin",
     "output_type": "stream",
     "text": [
      " 3\n",
      " 1\n",
      " 2\n",
      " 3\n"
     ]
    },
    {
     "name": "stdout",
     "output_type": "stream",
     "text": [
      "5\n"
     ]
    }
   ],
   "source": [
    "import sys\n",
    "# input = sys.stdin.readline\n",
    "\n",
    "score = []\n",
    "\n",
    "n = int(input())\n",
    "for _ in range(n):\n",
    "    score.append(int(input()))\n",
    "\n",
    "result = [0]*n\n",
    "result[0] = score[0]\n",
    "result[1] = score[0] + score[1]\n",
    "result[2] = max(score[0] + score[2], score[1] + score[2])\n",
    "\n",
    "for i in range(3, n):\n",
    "    result[i] = max(result[i-2] + score[i], result[i-3] + score[i-1] + score[i])\n",
    "\n",
    "print(result[-1])"
   ]
  },
  {
   "cell_type": "code",
   "execution_count": 13,
   "id": "2009209b-dace-47b6-866e-1fb8019c09d6",
   "metadata": {},
   "outputs": [],
   "source": [
    "for i in range(3,2) :\n",
    "    print(i)"
   ]
  },
  {
   "cell_type": "code",
   "execution_count": null,
   "id": "fe8d6c5e-93cd-429d-8892-2cd1a2a398a4",
   "metadata": {},
   "outputs": [],
   "source": []
  }
 ],
 "metadata": {
  "kernelspec": {
   "display_name": "Python 3 (ipykernel)",
   "language": "python",
   "name": "python3"
  },
  "language_info": {
   "codemirror_mode": {
    "name": "ipython",
    "version": 3
   },
   "file_extension": ".py",
   "mimetype": "text/x-python",
   "name": "python",
   "nbconvert_exporter": "python",
   "pygments_lexer": "ipython3",
   "version": "3.9.6"
  }
 },
 "nbformat": 4,
 "nbformat_minor": 5
}
