{
 "cells": [
  {
   "cell_type": "markdown",
   "id": "eaa4cfd5-2962-462e-aba5-95cf4dc1278c",
   "metadata": {},
   "source": [
    "# 동적 계획법"
   ]
  },
  {
   "cell_type": "markdown",
   "id": "a15b973b-3fb8-49e9-8975-5c2d6195be5d",
   "metadata": {},
   "source": [
    "## 7\t2579\t계단 오르기\n",
    "i번째 계단에 오를 때, 몇 개의 연속한 계단을 올랐는지를 고려하여 부분문제를 정의해봅시다."
   ]
  },
  {
   "cell_type": "code",
   "execution_count": 3,
   "id": "e89b172a-b673-4e55-96ab-4384cbc51e99",
   "metadata": {},
   "outputs": [],
   "source": [
    "# 문제 조건 \n",
    "# 써있는 계단을 밟으면 점수를 얻는다.\n",
    "# 연속 세개를 밟을수 없다.\n",
    "# 한번에 1개 아니면 2개\n",
    "# 마지막 계단은 반드시 밟아야 한다."
   ]
  },
  {
   "cell_type": "code",
   "execution_count": 10,
   "id": "ddef2410-a1bc-4c1c-b6ac-c049de83e0dd",
   "metadata": {},
   "outputs": [
    {
     "name": "stdout",
     "output_type": "stream",
     "text": [
      " 5\n",
      " 10\n",
      " 15\n",
      " 20\n",
      " 25\n",
      " 10\n",
      "60\n"
     ]
    }
   ],
   "source": [
    "import sys\n",
    "input=input#sys.stdin.readline\n",
    "N = int(input())\n",
    "\n",
    "steps=[0]\n",
    "\n",
    "# 일단 무조건 마지막을 밟아야 한다.\n",
    "# dp[n] = dp[n-3] + steps[n-1] + steps[n]\n",
    "# dp[n] = dp[n-2] + steps[n]\n",
    "# 1.마지막 계단 --> 마지막 계단에서 3칸 전, 2칸 밟고, 1칸 밟아야 된다. cf. 연속 3계단은 안됨\n",
    "# 2.마지막 계단 --> 마지막 계단에서 2칸 전, 마지막 계단. ? \n",
    "# 1계단 전의 계단을 밟는것은 고려 안하나? 1. 방법에 포함되기 때문\n",
    "\n",
    "#이제 비교만 남았다.\n",
    "# method1 = dp[n-3] + steps[n-1] + steps[n]\n",
    "# method2 = dp[n-2] +steps [n] \n",
    "# dp[n] = max(method1,method2)\n",
    "\n",
    "for _ in range(N): steps.append(int(input()))\n",
    "\n",
    "if N == 1:\n",
    "    #추가 조건 계단이 1칸일때 출력하기\n",
    "    print(steps[1])\n",
    "    \n",
    "else:\n",
    "    dp=[0]*(N+1)\n",
    "    dp[1]=steps[1]\n",
    "    dp[2]=steps[1] +steps[2]\n",
    "\n",
    "    for i in range(3,N+1):\n",
    "        method1 = dp[i-3] + steps[i-1] + steps[i]\n",
    "        method2 = dp[i-2] + steps[i] \n",
    "        dp[i]=max(method1,method2)\n",
    "    print(dp[-1])"
   ]
  },
  {
   "cell_type": "code",
   "execution_count": null,
   "id": "dfbd92a6-17c1-4253-9fd9-9ba7df363b6f",
   "metadata": {},
   "outputs": [
    {
     "name": "stdout",
     "output_type": "stream",
     "text": [
      " 3\n",
      " 1\n",
      " 2\n",
      " 3\n",
      "5\n"
     ]
    }
   ],
   "source": [
    "import sys\n",
    "# input = sys.stdin.readline\n",
    "\n",
    "score = []\n",
    "\n",
    "n = int(input())\n",
    "for _ in range(n):\n",
    "    score.append(int(input()))\n",
    "\n",
    "result = [0]*n\n",
    "result[0] = score[0]\n",
    "result[1] = score[0] + score[1]\n",
    "result[2] = max(score[0] + score[2], score[1] + score[2])\n",
    "\n",
    "for i in range(3, n):\n",
    "    result[i] = max(result[i-2] + score[i], result[i-3] + score[i-1] + score[i])\n",
    "\n",
    "print(result[-1])"
   ]
  },
  {
   "cell_type": "code",
   "execution_count": 13,
   "id": "2009209b-dace-47b6-866e-1fb8019c09d6",
   "metadata": {},
   "outputs": [],
   "source": [
    "for i in range(3,2) :\n",
    "    print(i)"
   ]
  },
  {
   "cell_type": "markdown",
   "id": "e739e694",
   "metadata": {},
   "source": [
    "## 8\t1463\t1로 만들기\n",
    "메모이제이션으로 N을 1로 바꾸기 위해 주어진 연산을 몇 번 사용하는지 계산하는 문제"
   ]
  },
  {
   "cell_type": "markdown",
   "id": "d31b7d9c",
   "metadata": {},
   "source": [
    "정수 X에 사용할 수 있는 연산은 다음과 같이 세 가지 이다.  \n",
    "\n",
    "1. X가 3으로 나누어 떨어지면, 3으로 나눈다.  \n",
    "2. X가 2로 나누어 떨어지면, 2로 나눈다. \n",
    "3. 1을 뺀다.    \n",
    "정수 N이 주어졌을 때, 위와 같은 연산 세 개를 적절히 사용해서 1을 만들려고 한다.  연산을 사용하는 횟수의 최솟값을 출력하시오.  "
   ]
  },
  {
   "cell_type": "code",
   "execution_count": 2,
   "id": "fe8d6c5e-93cd-429d-8892-2cd1a2a398a4",
   "metadata": {},
   "outputs": [
    {
     "name": "stdout",
     "output_type": "stream",
     "text": [
      "3\n",
      "1\n"
     ]
    }
   ],
   "source": [
    "# N --> N//3 or N//2 or N-=1\n",
    "# 큰수에서 줄이는 방법으로 갈수 있다. 반대로 간다면?\n",
    "# N//3 으로 가는 방법에 +1 해주면 N으로 간다.\n",
    "# N//2 으로 가는 방법에 +1 해주면 N으로 간다.\n",
    "# N-1 으로 가는 방법에 +1 해주면 N으로 간다.\n",
    "\n",
    "# dp(N)으로 가는 방법은 min(dp(N//3)+1,dp(N//2)+1,dp(N-1)+1)\n",
    "# 또한 dp(N//3) = min(dp((N//3)//3)+1,dp((N//3)//2)+1,dp((N//3)-1)+1)\n",
    "# 하지만 N//3 이 N/3인지 확인해야 함.\n",
    "# //는 정수를 받기 위해 /로 하면 float이 나와서 조금 위험\n",
    "# TypeError: list indices must be integers or slices, not float\n",
    "\n",
    "n = int(input())\n",
    "dp = [0 for _ in range(n+1)]\n",
    "\n",
    "for i in range(2,n+1):\n",
    "    # 만약 2를 준다면 1번은 나누어 주어야 한다.\n",
    "    dp[i] = dp[i-1] + 1\n",
    "    if i%2 == 0 and dp[i] > dp[i//2]+1: # float 방지, +조건문\n",
    "        dp[i] = dp[i//2] + 1\n",
    "    if i%3 == 0 and dp[i] > dp[i//3]+1:\n",
    "        dp[i] = dp[i//3] + 1\n",
    "    # min은 3이나 2로 안나눠 지는경우도 있기 때문에 X\n",
    "    # 조건문을 통해서 해결해야 함.\n",
    "print(dp[n])"
   ]
  },
  {
   "cell_type": "markdown",
   "id": "1362fe62",
   "metadata": {},
   "source": [
    "## 9\t10844\t쉬운 계단 수\n",
    "> 동적 계획법을 이용해 계단 수를 구하는 문제"
   ]
  },
  {
   "cell_type": "code",
   "execution_count": 8,
   "id": "bf2c6ab0",
   "metadata": {},
   "outputs": [
    {
     "name": "stdout",
     "output_type": "stream",
     "text": [
      "1000\n",
      "420939949\n"
     ]
    }
   ],
   "source": [
    "# Q 90도 해당될까? X\n",
    "\n",
    "n = int(input())\n",
    "dp =[[0]*10 for x in range(n+1)]\n",
    "NUM=1000000000\n",
    "\n",
    "for i in range(1,10):\n",
    "    dp[1][i]=1\n",
    "# 1자리 수의 1~9를 1로 만들어줌\n",
    "\n",
    "for i in range(2,n+1):\n",
    "    for j in range(10):\n",
    "        if j==0:dp[i][j]=dp[i-1][1]     #가능한것은 전의 수가 1인경우만\n",
    "        elif j==9:dp[i][j]=dp[i-1][8]   #9다음에 0으로 넘어가는것은 아니다. \n",
    "                                        #차가 무조건 1이나야 하기 때문에\n",
    "        else:dp[i][j]=dp[i-1][j+1]+dp[i-1][j-1]\n",
    "print(sum(dp[n])%NUM)"
   ]
  },
  {
   "cell_type": "markdown",
   "id": "6c8f4dec-256c-4282-93d9-3caef26eeeda",
   "metadata": {},
   "source": [
    "## 10\t2156\t포도주 시식\n",
    "규칙에 따라 포도주를 마실 때, 최대로 마실 수 있는 포도주의 양을 구하는 문제\n",
    "> 포도주 잔을 선택하면 그 잔에 들어있는 포도주는 모두 마셔야 하고, 마신 후에는 원래 위치에 다시 놓아야 한다.\n",
    "> 연속으로 놓여 있는 3잔을 모두 마실 수는 없다.\n",
    "\n",
    "2579 번이랑 유사"
   ]
  },
  {
   "cell_type": "markdown",
   "id": "6835c1e1-deec-4035-b619-084313f1524a",
   "metadata": {},
   "source": [
    "### 경우의 수\n",
    "|포도주 양    |6      | 10     | 13      | 9       |\n",
    "|-----------|-------|--------|---------|---------|\n",
    "|순서        |w1     |w2      | w3      | w4      |\n",
    "|경우의 수    |w1     |w1+w2   |w3+w2    | w4+w3+w1|\n",
    "|           |       |        |w3+w1    | w4+w2+w1|\n",
    "|           |       |        |w1+w2    | w3+w2   |\n",
    "|최대 값     |dp[1]=6|dp[2]=16|dp[3]=23 |dp[3]=28  |\n",
    "|          | w1    | w1+w2   |w3+w2   |w4+w3+w1   |  \n",
    "\n",
    "3번째에서 비교 : dp[3] =max(dp[3-1],arr[3]+arr[3-1],arr[3]+arr[3-2])  \n",
    "4번째에서 비교 : dp[4] =max(dp[4-1],arr[4]+arr[4-1]+dp[4-3],arr[4]+dp[n-2])"
   ]
  },
  {
   "cell_type": "code",
   "execution_count": 16,
   "id": "28c0be9c-4bf6-4aa3-8ba9-b5d15a200962",
   "metadata": {},
   "outputs": [
    {
     "name": "stdout",
     "output_type": "stream",
     "text": [
      " 2\n",
      " 1\n",
      " 3\n"
     ]
    },
    {
     "name": "stdout",
     "output_type": "stream",
     "text": [
      "4\n"
     ]
    }
   ],
   "source": [
    "# ### 경우의 수\n",
    "# |포도주 양    |6      | 10     | 13      | 9       |\n",
    "# |-----------|-------|--------|---------|---------|\n",
    "# |순서        |w1     |w2      | w3      | w4      |\n",
    "# |경우의 수    |w1     |w1+w2   |w3+w2    | w4+w3+w1|\n",
    "# |           |       |        |w3+w1    | w4+w2+w1|\n",
    "# |           |       |        |w1+w2    | w3+w2   |\n",
    "# |최대 값     |dp[1]=6|dp[2]=16|dp[3]=23 |dp[3]=28  |\n",
    "# |          | w1    | w1+w2   |w3+w2   |w4+w3+w1   |  \n",
    "#dp[0]=0\n",
    "# 3번째에서 비교 : dp[3] =max(dp[3-1],arr[3]+arr[3-1]+dp[3-3],arr[3]+dp[3-2])  \n",
    "# 4번째에서 비교 : dp[4] =max(dp[4-1],arr[4]+arr[4-1]+dp[4-3],arr[4]+dp[n-2])\n",
    "\n",
    "import sys\n",
    "input=input#sys.stdin.readline\n",
    "n = int(input())\n",
    "w =[0]\n",
    "dp=[0]*(n+1)\n",
    "for i in range(n):w.append(int(input()))\n",
    "dp[1]=w[1]\n",
    "   \n",
    "if n>1:\n",
    "    dp[2]=w[1]+w[2] \n",
    "    for i in range(3,n+1):\n",
    "        dp[i]=max(dp[i-1],w[i]+w[i-1]+dp[i-3],w[i]+dp[i-2])\n",
    "        \n",
    "print(dp[n])\n"
   ]
  },
  {
   "cell_type": "markdown",
   "id": "7fde99ff",
   "metadata": {},
   "source": [
    "## 11\t11053\t가장 긴 증가하는 부분 수열\n",
    "LIS(Longest Increasing Subsequence)를 구하는 문제"
   ]
  },
  {
   "cell_type": "code",
   "execution_count": 2,
   "id": "d0057fdb-83e3-4ca0-a55a-5e5dfe3d3921",
   "metadata": {},
   "outputs": [
    {
     "name": "stdout",
     "output_type": "stream",
     "text": [
      "20 10\n",
      "0\n",
      "1\n",
      "30 10\n",
      "0\n",
      "1\n",
      "30 20\n",
      "1\n",
      "2\n",
      "30 10\n",
      "2\n",
      "2\n",
      "20 10\n",
      "0\n",
      "1\n",
      "20 10\n",
      "1\n",
      "1\n",
      "50 10\n",
      "0\n",
      "1\n",
      "50 20\n",
      "1\n",
      "2\n",
      "50 10\n",
      "2\n",
      "2\n",
      "50 30\n",
      "2\n",
      "3\n",
      "50 20\n",
      "3\n",
      "3\n"
     ]
    }
   ],
   "source": [
    "# 어떤 수열을 입력 받는다\n",
    "# 목표는 긴 수열을 찾는것. \n",
    "# 각 자리의 수마다 검사를 해본다.\n",
    "\n",
    "# 10 20 10 30 20 50\n",
    "# 1  2  1  3  2  4\n",
    " \n",
    "n=int(input())\n",
    "dp=[1]*n\n",
    "arr=list(map(int,input().split()))\n",
    "\n",
    "for i in range(n):\n",
    "    for j in range(i):\n",
    "        if arr[i]>arr[j]: #전의 수보다 클경우만\n",
    "            # print(arr[i],arr[j])\n",
    "            # print(dp[i])\n",
    "            dp[i]=max(dp[i],dp[j]+1)\n",
    "            # print(dp[i])\n",
    "            \n",
    "print(max(dp))\n"
   ]
  },
  {
   "cell_type": "code",
   "execution_count": null,
   "id": "fca76945",
   "metadata": {},
   "outputs": [],
   "source": []
  }
 ],
 "metadata": {
  "kernelspec": {
   "display_name": "Python 3 (ipykernel)",
   "language": "python",
   "name": "python3"
  },
  "language_info": {
   "codemirror_mode": {
    "name": "ipython",
    "version": 3
   },
   "file_extension": ".py",
   "mimetype": "text/x-python",
   "name": "python",
   "nbconvert_exporter": "python",
   "pygments_lexer": "ipython3",
   "version": "3.9.6"
  }
 },
 "nbformat": 4,
 "nbformat_minor": 5
}
